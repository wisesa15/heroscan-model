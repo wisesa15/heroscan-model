{
  "nbformat": 4,
  "nbformat_minor": 0,
  "metadata": {
    "colab": {
      "name": "HeroScan_Model.ipynb",
      "provenance": [],
      "collapsed_sections": []
    },
    "kernelspec": {
      "name": "python3",
      "display_name": "Python 3"
    },
    "language_info": {
      "name": "python"
    }
  },
  "cells": [
    {
      "cell_type": "code",
      "metadata": {
        "colab": {
          "base_uri": "https://localhost:8080/"
        },
        "id": "GPvzXqveXojf",
        "outputId": "54a6dd10-0cac-4b1d-a73a-ddc4b9eeb07f"
      },
      "source": [
        "from google.colab import drive\n",
        "drive.mount('/content/drive')"
      ],
      "execution_count": null,
      "outputs": [
        {
          "output_type": "stream",
          "text": [
            "Mounted at /content/drive\n"
          ],
          "name": "stdout"
        }
      ]
    },
    {
      "cell_type": "code",
      "metadata": {
        "id": "vjdF9EwISGj7"
      },
      "source": [
        "import os\n",
        "from os import listdir\n",
        "from os.path import isdir\n",
        "from PIL import Image\n",
        "from matplotlib import pyplot\n",
        "from numpy import savez_compressed\n",
        "from numpy import asarray\n",
        "import tensorflow as tf\n",
        "from tensorflow.keras.models import load_model\n",
        "from numpy import load\n",
        "from numpy import expand_dims"
      ],
      "execution_count": null,
      "outputs": []
    },
    {
      "cell_type": "code",
      "metadata": {
        "id": "9J5rTlz7vXuH"
      },
      "source": [
        "from numpy import load\n",
        "from sklearn.metrics import accuracy_score\n",
        "from sklearn.preprocessing import LabelEncoder\n",
        "from sklearn.preprocessing import Normalizer\n",
        "from sklearn.svm import SVC\n",
        "from random import choice"
      ],
      "execution_count": null,
      "outputs": []
    },
    {
      "cell_type": "markdown",
      "metadata": {
        "id": "g068tt_KVfzZ"
      },
      "source": [
        ""
      ]
    },
    {
      "cell_type": "code",
      "metadata": {
        "id": "KF0PIcLYSOdF"
      },
      "source": [
        "# extract a single face from a given photograph\n",
        "def face_preprocess(filename, required_size=(160, 160)):\n",
        "  # load image from file\n",
        "  image = Image.open(filename)\n",
        "  # convert to RGB, if needed\n",
        "  image = image.convert('RGB')\n",
        "  # resize pixels to the model size\n",
        "  image = image.resize(required_size)\n",
        "  face_array = asarray(image)\n",
        "  return face_array"
      ],
      "execution_count": null,
      "outputs": []
    },
    {
      "cell_type": "code",
      "metadata": {
        "id": "n-zhRUIfvIiD"
      },
      "source": [
        "# load images and extract faces for all images in a directory\n",
        "def load_faces(directory):\n",
        "  faces = list()\n",
        "  # enumerate files\n",
        "  for filename in listdir(directory):\n",
        "    # path\n",
        "    path = os.path.join(directory,filename)\n",
        "    # get face\n",
        "    face = face_preprocess(path)\n",
        "    # store\n",
        "    faces.append(face)\n",
        "  return faces"
      ],
      "execution_count": null,
      "outputs": []
    },
    {
      "cell_type": "code",
      "metadata": {
        "id": "pTutuSbCvK6o"
      },
      "source": [
        "# load a dataset that contains one subdir for each class that in turn contains images\n",
        "def load_dataset(directory):\n",
        "  x, y = list(), list()\n",
        "  # enumerate folders, on per class\n",
        "  for subdir in listdir(directory):\n",
        "    # path\n",
        "    path = os.path.join(directory,subdir) \n",
        "    # skip any files that might be in the dir\n",
        "    if not isdir(path):\n",
        "      continue\n",
        "    # load all faces in the subdirectory\n",
        "    faces = load_faces(path)\n",
        "    # create labels\n",
        "    labels = [subdir for _ in range(len(faces))]\n",
        "    # summarize progress\n",
        "    print('loaded {} faces for class : {}'.format(len(faces),subdir))\n",
        "\t# store\n",
        "    x.extend(faces)\n",
        "    y.extend(labels)\n",
        "  return asarray(x), asarray(y)"
      ],
      "execution_count": null,
      "outputs": []
    },
    {
      "cell_type": "code",
      "metadata": {
        "id": "HEb15_5NvMzF"
      },
      "source": [
        "def get_embedding(model, face_pixels):\n",
        "  face_pixels = face_pixels.astype('float32')\n",
        "  mean, std = face_pixels.mean(), face_pixels.std()\n",
        "  face_pixels = (face_pixels - mean) / std\n",
        "  samples = expand_dims(face_pixels, axis=0)\n",
        "  yhat = model.predict(samples)\n",
        "  return yhat[0]"
      ],
      "execution_count": null,
      "outputs": []
    },
    {
      "cell_type": "code",
      "metadata": {
        "id": "SQ42pvfCvxKU"
      },
      "source": [
        "base_path = 'drive/MyDrive/'\n",
        "dataset_filename = 'pahlawan-dataset.npz'\n",
        "embedding_filename = 'pahlawan-embedding.npz'\n",
        "\n",
        "# uncomment if you're rizal\n",
        "# model_dir = 'model/facenet_keras.h5'\n",
        "# weight_dir = 'weights/facenet_keras_weights.h5'\n",
        "\n",
        "# uncomment if you're priyo\n",
        "model_dir = 'keras-facenet/model/facenet_keras.h5'\n",
        "weight_dir = 'keras-facenet/weights/facenet_keras_weights.h5'"
      ],
      "execution_count": null,
      "outputs": []
    },
    {
      "cell_type": "code",
      "metadata": {
        "id": "8Ui4UICkW8ka"
      },
      "source": [
        "# load train dataset\n",
        "trainX, trainy = load_dataset(os.path.join(base_path,'phlwn/train/'))\n",
        "print(trainX.shape, trainy.shape)\n",
        "# load test dataset\n",
        "testX, testy = load_dataset(os.path.join(base_path,'phlwn/val/'))\n",
        "print(trainX.shape, trainy.shape)\n",
        "# save arrays to one file in compressed format\n",
        "savez_compressed(os.path.join(base_path, dataset_filename), trainX, trainy, testX, testy)"
      ],
      "execution_count": null,
      "outputs": []
    },
    {
      "cell_type": "code",
      "metadata": {
        "id": "gfyDAj7pxPgr"
      },
      "source": [
        "dataset_path = os.path.join(base_path, dataset_filename)"
      ],
      "execution_count": null,
      "outputs": []
    },
    {
      "cell_type": "code",
      "metadata": {
        "id": "ATCb8einwPJc",
        "colab": {
          "base_uri": "https://localhost:8080/"
        },
        "outputId": "c11e6c45-6ae2-45db-828f-8f68adc4a4b1"
      },
      "source": [
        "# load the face dataset to inspect \n",
        "data = load(dataset_path)\n",
        "trainX, trainy, testX, testy = data['arr_0'], data['arr_1'], data['arr_2'], data['arr_3']\n",
        "print('Loaded: ', trainX.shape, trainy.shape, testX.shape, testy.shape)"
      ],
      "execution_count": null,
      "outputs": [
        {
          "output_type": "stream",
          "text": [
            "Loaded:  (469, 160, 160, 3) (469,) (80, 160, 160, 3) (80,)\n"
          ],
          "name": "stdout"
        }
      ]
    },
    {
      "cell_type": "code",
      "metadata": {
        "id": "tSU-RTaowWbT",
        "colab": {
          "base_uri": "https://localhost:8080/"
        },
        "outputId": "f0675ed4-07cc-483d-c9d8-7f9b2ce9a230"
      },
      "source": [
        "#load facenet model\n",
        "model_path = os.path.join(base_path, model_dir)\n",
        "weights_path = os.path.join(base_path, weight_dir)\n",
        "model = load_model(model_path)\n",
        "model.load_weights(weights_path)\n",
        "print('Loaded Model')"
      ],
      "execution_count": null,
      "outputs": [
        {
          "output_type": "stream",
          "text": [
            "WARNING:tensorflow:No training configuration found in the save file, so the model was *not* compiled. Compile it manually.\n",
            "Loaded Model\n"
          ],
          "name": "stdout"
        }
      ]
    },
    {
      "cell_type": "code",
      "metadata": {
        "id": "kp16QxsTwYfA",
        "colab": {
          "base_uri": "https://localhost:8080/"
        },
        "outputId": "e79a1dfa-a5e3-42f1-e48a-c4b929079ae0"
      },
      "source": [
        "# convert each face in the dataset to an embedding using facenet model\n",
        "embeddedTrainX = []\n",
        "for face_pixels in trainX:\n",
        "  embedding = get_embedding(model, face_pixels)\n",
        "  embeddedTrainX.append(embedding)\n",
        "embeddedTrainX = asarray(embeddedTrainX)\n",
        "print(embeddedTrainX.shape)\n",
        "\n",
        "embeddedTestX = []\n",
        "for face_pixels in testX:\n",
        "  embedding = get_embedding(model, face_pixels)\n",
        "  embeddedTestX.append(embedding)\n",
        "embeddedTestX = asarray(embeddedTestX)\n",
        "print(embeddedTestX.shape)\n",
        "\n",
        "savez_compressed(os.path.join(base_path, embedding_filename), embeddedTrainX, trainy, embeddedTestX, testy)"
      ],
      "execution_count": null,
      "outputs": [
        {
          "output_type": "stream",
          "text": [
            "(469, 128)\n",
            "(80, 128)\n"
          ],
          "name": "stdout"
        }
      ]
    },
    {
      "cell_type": "code",
      "metadata": {
        "id": "HZw73yKtzcZg"
      },
      "source": [
        "embedding_path = os.path.join(base_path, embedding_filename)"
      ],
      "execution_count": null,
      "outputs": []
    },
    {
      "cell_type": "code",
      "metadata": {
        "id": "WDDAgaUOUS3O",
        "colab": {
          "base_uri": "https://localhost:8080/"
        },
        "outputId": "3d6ba4b5-489a-4393-e569-96f08c4f4835"
      },
      "source": [
        "#load faces\n",
        "data = load(dataset_path)\n",
        "testX_faces = data['arr_2']\n",
        "\n",
        "# load dataset\n",
        "data = load(embedding_path)\n",
        "trainX, trainy, testX, testy = data['arr_0'], data['arr_1'], data['arr_2'], data['arr_3']\n",
        "print('Dataset: train=%d, test=%d' % (trainX.shape[0], testX.shape[0]))\n",
        "# normalize input vectors\n",
        "in_encoder = Normalizer(norm='l2')\n",
        "trainX = in_encoder.transform(trainX)\n",
        "testX = in_encoder.transform(testX)\n",
        "# label encode targets\n",
        "out_encoder = LabelEncoder()\n",
        "out_encoder.fit(trainy)\n",
        "trainy = out_encoder.transform(trainy)\n",
        "testy = out_encoder.transform(testy)"
      ],
      "execution_count": null,
      "outputs": [
        {
          "output_type": "stream",
          "text": [
            "Dataset: train=469, test=80\n"
          ],
          "name": "stdout"
        }
      ]
    },
    {
      "cell_type": "code",
      "metadata": {
        "colab": {
          "base_uri": "https://localhost:8080/"
        },
        "id": "AUoQDVtvvn8_",
        "outputId": "d2ba8ede-4b29-4ad2-c28e-5d210dac0a90"
      },
      "source": [
        "# fit model\n",
        "model = SVC(kernel='linear', probability=True)\n",
        "model.fit(trainX, trainy)\n",
        "# predict\n",
        "yhat_train = model.predict(trainX)\n",
        "yhat_test = model.predict(testX)\n",
        "# score\n",
        "score_train = accuracy_score(trainy, yhat_train)\n",
        "score_test = accuracy_score(testy, yhat_test)\n",
        "# summarize\n",
        "print('Accuracy: train=%.3f, test=%.3f' % (score_train*100, score_test*100))"
      ],
      "execution_count": null,
      "outputs": [
        {
          "output_type": "stream",
          "text": [
            "Accuracy: train=97.228, test=90.000\n"
          ],
          "name": "stdout"
        }
      ]
    },
    {
      "cell_type": "code",
      "metadata": {
        "colab": {
          "base_uri": "https://localhost:8080/",
          "height": 314
        },
        "id": "W71h3tzUh-Lv",
        "outputId": "13cef211-d63c-4656-dc10-cde426bf9bbf"
      },
      "source": [
        "selection = choice([i for i in range(testX.shape[0])])\n",
        "random_face_pixels = testX_faces[selection]\n",
        "random_face_emb = testX[selection]\n",
        "random_face_class = testy[selection]\n",
        "random_face_name = out_encoder.inverse_transform([random_face_class])\n",
        "# prediction for the face\n",
        "samples = expand_dims(random_face_emb, axis=0)\n",
        "yhat_class = model.predict(samples)\n",
        "yhat_prob = model.predict_proba(samples)\n",
        "# get name\n",
        "class_index = yhat_class[0]\n",
        "class_probability = yhat_prob[0,class_index] * 100\n",
        "predict_names = out_encoder.inverse_transform(yhat_class)\n",
        "print('Predicted: %s (%.3f)' % (predict_names[0], class_probability))\n",
        "print('Expected: %s' % random_face_name[0])\n",
        "\n",
        "# plot for fun\n",
        "pyplot.imshow(random_face_pixels)\n",
        "title = '%s (%.3f)' % (predict_names[0], class_probability)\n",
        "pyplot.title(title)\n",
        "pyplot.show()"
      ],
      "execution_count": null,
      "outputs": [
        {
          "output_type": "stream",
          "text": [
            "Predicted: Dr. Mr. Teuku H. Moehammad Hasan (11.324)\n",
            "Expected: Dr. Mr. Teuku H. Moehammad Hasan\n"
          ],
          "name": "stdout"
        },
        {
          "output_type": "display_data",
          "data": {
            "image/png": "[encoded data removed]",
            "text/plain": [
              "<Figure size 432x288 with 1 Axes>"
            ]
          },
          "metadata": {
            "tags": [],
            "needs_background": "light"
          }
        }
      ]
    },
    {
      "cell_type": "code",
      "metadata": {
        "id": "eSmgj1KtKSN4"
      },
      "source": [
        "import pickle\n",
        "\n",
        "with open('modelheroscan.pkl', 'wb') as model_file:\n",
        "  pickle.dump(model, model_file)\n",
        "\n",
        "with open('labelheroscan.pkl', 'wb') as model_file:\n",
        "  pickle.dump(out_encoder, model_file)"
      ],
      "execution_count": null,
      "outputs": []
    }
  ]
}